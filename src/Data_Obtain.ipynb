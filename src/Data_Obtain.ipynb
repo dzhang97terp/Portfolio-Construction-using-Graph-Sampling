{
 "cells": [
  {
   "cell_type": "code",
   "execution_count": null,
   "id": "772ae9fe",
   "metadata": {},
   "outputs": [],
   "source": [
    "import numpy as np\n",
    "import pandas as pd\n",
    "import networkx as nx\n",
    "import time\n",
    "import timeit\n",
    "import datetime\n",
    "from datetime import datetime,timedelta\n",
    "from dateutil.relativedelta import relativedelta\n",
    "import http.client\n",
    "import requests\n",
    "import json\n",
    "import yfinance as yf\n",
    "#%matplotlib inline\n",
    "import matplotlib.pyplot as plt\n",
    "import seaborn as sns\n",
    "from heapq import *\n",
    "import planarity\n",
    "from sklearn.linear_model import LinearRegression\n",
    "import scipy as sc\n",
    "import math\n",
    "import random\n",
    "\n",
    "#!pip install finta\n",
    "from finta import TA\n",
    "from sklearn.decomposition import PCA\n",
    "from sklearn.preprocessing import MinMaxScaler"
   ]
  },
  {
   "cell_type": "markdown",
   "id": "3ec13dfe",
   "metadata": {},
   "source": [
    "##### Data downloaded on Nov.29"
   ]
  },
  {
   "cell_type": "code",
   "execution_count": null,
   "id": "6ed92e46",
   "metadata": {},
   "outputs": [],
   "source": [
    "whole_table = pd.read_html('https://en.wikipedia.org/wiki/List_of_S%26P_500_companies')"
   ]
  },
  {
   "cell_type": "markdown",
   "id": "969cb9f1",
   "metadata": {},
   "source": [
    "##### Obtain current active components of S&P500"
   ]
  },
  {
   "cell_type": "code",
   "execution_count": null,
   "id": "d836bf45",
   "metadata": {},
   "outputs": [],
   "source": [
    "# df_current_components = whole_table[0]\n",
    "# df_current_components.set_index(['Symbol'],inplace=True)\n",
    "# df_current_components.to_excel(\"SP500 current components.xlsx\") \n",
    "cur_components_df = pd.read_excel('SP500 current components.xlsx')\n",
    "# cur_components_df.set_index(['Symbol'],inplace=True)\n",
    "cur_components_df.head()"
   ]
  },
  {
   "cell_type": "code",
   "execution_count": null,
   "id": "bec8925c",
   "metadata": {},
   "outputs": [],
   "source": [
    "# Change BF.B and BRK.B to BF-B and BRK-B\n",
    "for i in cur_components_df.index:\n",
    "    if '.' in cur_components_df.loc[i,'Symbol']:\n",
    "        temp_ticker = cur_components_df.loc[i, 'Symbol']\n",
    "        temp_ticker = temp_ticker.split('.')\n",
    "        new_ticker = '-'.join(temp_ticker)\n",
    "        cur_components_df.loc[i,'Symbol'] = new_ticker\n",
    "        print(new_ticker)\n",
    "        "
   ]
  },
  {
   "cell_type": "code",
   "execution_count": null,
   "id": "772ce87e",
   "metadata": {},
   "outputs": [],
   "source": [
    "cur_components_df.to_excel(\"SP500 current components.xlsx\")"
   ]
  },
  {
   "cell_type": "markdown",
   "id": "a0ad4c0a",
   "metadata": {},
   "source": [
    "##### Obtain SP500 changes (from 2015.07 to end of 2022.11)"
   ]
  },
  {
   "cell_type": "code",
   "execution_count": null,
   "id": "42bde463",
   "metadata": {},
   "outputs": [],
   "source": [
    "# d_changes = whole_table[1][:201]\n",
    "# d_changes.set_index(['Date'],inplace=True)\n",
    "# crude_dates = d_changes.index\n",
    "# df_changes = d_changes.copy()\n",
    "# new_dates = []\n",
    "# for i in range(crude_dates.shape[0]):\n",
    "#     date_ = str(crude_dates[i])\n",
    "#     date = datetime.strptime(date_, \"('%B %d, %Y',)\")\n",
    "#     new_dates.append(date)\n",
    "# df_changes['Date'] = new_dates\n",
    "# df_changes.set_index(['Date'],inplace=True)\n",
    "# df_changes.to_excel(\"SP500 changes.xlsx\")\n",
    "# Here I then do some manual manipulations so that it's the current version\n",
    "# I (1) rearrange the first several lines;\n",
    "# (2) on 2022-06-21, it's 'UA/UAA' -- under armour, they're removed together\n",
    "# so I insert a row to separate UA and UAA\n",
    "# (3) on 2017-8-29 'Q'--Quintiles and IMS Health is added, but in current list, it appears as 'IQV'\n",
    "# So I manually change 'Q' to 'IQV', same as the ticker name at yahoo finance\n",
    "# (4) on 2016-1-5, Willis Towers Watson is added as 'WLTW', but in current list and yf\n",
    "# it appears as 'WTW', so I change 'WLTW' to 'WTW'\n",
    "changes_df = pd.read_excel('SP500 changes.xlsx')\n",
    "changes_df.set_index(['Date'],inplace=True)\n",
    "changes_df = changes_df.iloc[:176,:]\n",
    "changes_df"
   ]
  },
  {
   "cell_type": "code",
   "execution_count": null,
   "id": "394cd010",
   "metadata": {},
   "outputs": [],
   "source": [
    "import yfinance.shared as shared"
   ]
  },
  {
   "cell_type": "code",
   "execution_count": null,
   "id": "c4df8fbe",
   "metadata": {},
   "outputs": [],
   "source": [
    "# Test from 2017-01-01 to 2022-10-31, Remove all tickers that unavailable from yahoo finance\n",
    "start = '2017-01-01'\n",
    "end = '2022-10-31'"
   ]
  },
  {
   "cell_type": "code",
   "execution_count": null,
   "id": "a2ac1092",
   "metadata": {},
   "outputs": [],
   "source": [
    "# find them through removed tickers\n",
    "delisted_ticker = changes_df.copy()[['Removed Ticker','Removed Security', 'Reason']]\n",
    "delisted_ticker.dropna(inplace=True)"
   ]
  },
  {
   "cell_type": "code",
   "execution_count": null,
   "id": "a093dc41",
   "metadata": {},
   "outputs": [],
   "source": [
    "# I find these tickers are unavailable\n",
    "noaccess_ticker = ['CTXS','CERN','PBCT','INFO','XLNX','KSU','MXIM','ALXN','FLIR','CXP','TIF','NBL','ETFC','AGN','RTN']\n",
    "noaccess_ticker.extend(['XEC','WCG','STI','CELG','TSS','APC','RHT','GGP','DPS','BCR','LVLT','SPLS','WFM','CXO','VIAB','VAR'])\n",
    "noaccess_ticker.extend(['RAI','YHOO','MJN','LLTC','ENDP','STJ','TYC''CPGX','TE' ,'CVC','ARG', 'TWC','SNDK','TYC','CPGX'])\n",
    "noaccess_ticker.extend(['CAM','ESV','GMCR','SIAL','ARG','TWC','SNDK','CAM','ESV','GMCR','SIAL','DTV','FDO','LO','ACE','NLSN'])\n",
    "noaccess_ticker.extend(['FTR', 'DWDP', 'WYN', 'HCBK', 'BRCM', 'LM', 'KRFT', 'HFC', 'BXLT', 'ADS', 'QEP', 'HSP', 'JOY', 'CMCSK'])\n",
    "# filter out unavailable tickers\n",
    "delisted = delisted_ticker['Removed Ticker'].values\n",
    "available = [ticker for ticker in delisted if ticker not in noaccess_ticker]\n",
    "len(available)"
   ]
  },
  {
   "cell_type": "markdown",
   "id": "fed3c46d",
   "metadata": {},
   "source": [
    "### Before running PCA_graph notebook,  the following code should be run to check stocks availability in Yahoo finance"
   ]
  },
  {
   "cell_type": "code",
   "execution_count": null,
   "id": "59c9156a",
   "metadata": {},
   "outputs": [],
   "source": [
    "# Test if I have any tickers missing\n",
    "# yf.download(available, start,end)\n",
    "# fail_tickers = list(shared._ERRORS.keys())\n",
    "# print(fail_tickers)"
   ]
  },
  {
   "cell_type": "code",
   "execution_count": null,
   "id": "6f44a1fb",
   "metadata": {},
   "outputs": [],
   "source": [
    "# test = list(cur_components_df.Symbol.values)\n",
    "# yf.download(test, start,end)\n",
    "# print(list(shared._ERRORS.keys()))"
   ]
  },
  {
   "cell_type": "markdown",
   "id": "f0c5c2fa",
   "metadata": {},
   "source": [
    "##### Obtain components mark"
   ]
  },
  {
   "cell_type": "code",
   "execution_count": null,
   "id": "d007ac89",
   "metadata": {},
   "outputs": [],
   "source": [
    "# # generate SP500 components from now to historical periods.\n",
    "# # initialize\n",
    "# components_mark_df = pd.DataFrame()\n",
    "# prev_date = 0\n",
    "# stocks = list(cur_components_df['Symbol'])\n",
    "# # generate historical components based on changes\n",
    "# for date in changes_df.index[:-1]:\n",
    "#     if date != prev_date:\n",
    "#         components_mark_df.loc[date, stocks] = 1\n",
    "#         prev_date = date\n",
    "#         removed = changes_df.loc[date, 'Removed Ticker']\n",
    "#         added = changes_df.loc[date, 'Added Ticker']\n",
    "        \n",
    "#         if type(removed) == str:\n",
    "#             stocks.append(removed)            \n",
    "#         elif isinstance(removed, pd.Series):\n",
    "#             for ele in list(removed.values):\n",
    "#                 if type(ele) == str: stocks.append(ele)\n",
    "                    \n",
    "#         if type(added) == str:\n",
    "# #             print(added,date)\n",
    "#             stocks.remove(added)\n",
    "#         elif isinstance(added, pd.Series):\n",
    "#             for ele in list(added.values):\n",
    "#                 if type(ele) == str: stocks.remove(ele)\n",
    "                    \n",
    "# components_mark_df = components_mark_df.sort_index()\n",
    "# components_mark_df.head()\n",
    "\n",
    "# save results\n",
    "# components_mark_df.index.name = 'date'\n",
    "# components_mark_df.to_csv('components_mark_df.csv')\n",
    "components_mark_df = pd.read_csv('components_mark_df.csv')\n",
    "components_mark_df.set_index('date',inplace=True)\n",
    "components_mark_df"
   ]
  },
  {
   "cell_type": "code",
   "execution_count": null,
   "id": "35d4938b",
   "metadata": {},
   "outputs": [],
   "source": [
    "remove = [t for t in noaccess_ticker if t in components_mark_df.columns.values]\n",
    "# Remove tickers that not available from Yahoo Finance\n",
    "components_mark_df.drop(remove, axis=1,inplace = True)\n",
    "# Change BF.B and BRK.B to BF-B and BRK-B\n",
    "components_mark_df.rename(columns={'BF.B':'BF-B','BRK.B':'BRK-B'},inplace=True)"
   ]
  },
  {
   "cell_type": "code",
   "execution_count": null,
   "id": "35e605a2",
   "metadata": {
    "scrolled": true
   },
   "outputs": [],
   "source": [
    "components_mark_df.to_csv('components_mark_df.csv')"
   ]
  },
  {
   "cell_type": "markdown",
   "id": "2118e7d4",
   "metadata": {},
   "source": [
    "##### Components prices new"
   ]
  },
  {
   "cell_type": "code",
   "execution_count": null,
   "id": "c6d4425b",
   "metadata": {},
   "outputs": [],
   "source": [
    "all_stocks_list = list(components_mark_df.columns)\n",
    "startdate = '2015-07-01'\n",
    "enddate = '2022-11-01'\n",
    "# data = yf.download(all_stocks_list,startdate,enddate)\n",
    "# data.to_excel(\"Data downloaded from now.xlsx\")\n",
    "# manually adjusted the first rows so that column names are right\n",
    "# reference_data = pd.read_excel('Data downloaded from now.xlsx')"
   ]
  },
  {
   "cell_type": "code",
   "execution_count": null,
   "id": "b5ad9145",
   "metadata": {},
   "outputs": [],
   "source": [
    "# reference_data.set_index('Date',inplace=True)\n",
    "# reference_data"
   ]
  },
  {
   "cell_type": "code",
   "execution_count": null,
   "id": "45e028e9",
   "metadata": {},
   "outputs": [],
   "source": [
    "# adj_close = yf.download(all_stocks_list,startdate,enddate)['Adj Close']\n",
    "# adj_close.to_excel(\"prices.xlsx\")"
   ]
  },
  {
   "cell_type": "code",
   "execution_count": null,
   "id": "a5812631",
   "metadata": {},
   "outputs": [],
   "source": [
    "adj_close = pd.read_excel(\"prices.xlsx\")"
   ]
  },
  {
   "cell_type": "code",
   "execution_count": null,
   "id": "7acd53b0",
   "metadata": {},
   "outputs": [],
   "source": [
    "adj_close.set_index('Date',inplace=True)\n",
    "adj_close"
   ]
  },
  {
   "cell_type": "code",
   "execution_count": null,
   "id": "15e0edb6",
   "metadata": {},
   "outputs": [],
   "source": [
    "# Remove tickers that not available from Yahoo Finance\n",
    "adj_close_update = adj_close.copy().drop(remove, axis=1)\n",
    "# Change BF.B and BRK.B to BF-B and BRK-B\n",
    "adj_close_update.rename(columns={'BF.B':'BF-B','BRK.B':'BRK-B'},inplace=True)"
   ]
  },
  {
   "cell_type": "code",
   "execution_count": null,
   "id": "b5943091",
   "metadata": {},
   "outputs": [],
   "source": [
    "adj_close_update.to_excel(\"prices.xlsx\")"
   ]
  }
 ],
 "metadata": {
  "kernelspec": {
   "display_name": "Python 3 (ipykernel)",
   "language": "python",
   "name": "python3"
  },
  "language_info": {
   "codemirror_mode": {
    "name": "ipython",
    "version": 3
   },
   "file_extension": ".py",
   "mimetype": "text/x-python",
   "name": "python",
   "nbconvert_exporter": "python",
   "pygments_lexer": "ipython3",
   "version": "3.9.15"
  },
  "varInspector": {
   "cols": {
    "lenName": 16,
    "lenType": 16,
    "lenVar": 40
   },
   "kernels_config": {
    "python": {
     "delete_cmd_postfix": "",
     "delete_cmd_prefix": "del ",
     "library": "var_list.py",
     "varRefreshCmd": "print(var_dic_list())"
    },
    "r": {
     "delete_cmd_postfix": ") ",
     "delete_cmd_prefix": "rm(",
     "library": "var_list.r",
     "varRefreshCmd": "cat(var_dic_list()) "
    }
   },
   "types_to_exclude": [
    "module",
    "function",
    "builtin_function_or_method",
    "instance",
    "_Feature"
   ],
   "window_display": false
  }
 },
 "nbformat": 4,
 "nbformat_minor": 5
}
